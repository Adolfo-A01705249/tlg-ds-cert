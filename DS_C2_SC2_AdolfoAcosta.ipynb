{
  "nbformat": 4,
  "nbformat_minor": 0,
  "metadata": {
    "colab": {
      "provenance": []
    },
    "kernelspec": {
      "name": "python3",
      "display_name": "Python 3"
    },
    "language_info": {
      "name": "python"
    }
  },
  "cells": [
    {
      "cell_type": "markdown",
      "source": [
        "a. Extraer la información del archivo."
      ],
      "metadata": {
        "id": "1ZLd0Biz7XzL"
      }
    },
    {
      "cell_type": "code",
      "source": [
        "# Conectar con unidad de drive donde esta guardado el csv con los datos\n",
        "from google.colab import drive\n",
        "drive.mount('/content/drive')"
      ],
      "metadata": {
        "colab": {
          "base_uri": "https://localhost:8080/"
        },
        "id": "vBLwpyoxBr1O",
        "outputId": "fbbc1f5b-19c6-4552-b21e-0ca57b796745"
      },
      "execution_count": 104,
      "outputs": [
        {
          "output_type": "stream",
          "name": "stdout",
          "text": [
            "Drive already mounted at /content/drive; to attempt to forcibly remount, call drive.mount(\"/content/drive\", force_remount=True).\n"
          ]
        }
      ]
    },
    {
      "cell_type": "code",
      "execution_count": 105,
      "metadata": {
        "id": "yfd6oyFw5tbM"
      },
      "outputs": [],
      "source": [
        "import pandas as pd\n",
        "\n",
        "# Leer el archivo con pandas\n",
        "file_path = '/content/drive/MyDrive/certificado DS/country_vaccinations.csv'\n",
        "df = pd.read_csv(file_path)"
      ]
    },
    {
      "cell_type": "markdown",
      "source": [
        "b. Mostrar la estructura y tipos de datos de cada columna para identificar qué operaciones puedes realizar con cada una de ellas, asegurándote que las columnas con fechas sean del tipo datetime64."
      ],
      "metadata": {
        "id": "pUSmJtivBriu"
      }
    },
    {
      "cell_type": "code",
      "source": [
        "# Convertir la columna de fecha a datetime64\n",
        "df['date'] = pd.to_datetime(df['date'])\n",
        "\n",
        "# Mostrar tipos de datos de cada columna\n",
        "print(df.dtypes)"
      ],
      "metadata": {
        "colab": {
          "base_uri": "https://localhost:8080/"
        },
        "id": "ow_10YY-B-HR",
        "outputId": "39c3fba5-19f0-4568-d908-3f82bb3c2a4a"
      },
      "execution_count": 106,
      "outputs": [
        {
          "output_type": "stream",
          "name": "stdout",
          "text": [
            "country                                        object\n",
            "iso_code                                       object\n",
            "date                                   datetime64[ns]\n",
            "total_vaccinations                            float64\n",
            "people_vaccinated                             float64\n",
            "people_fully_vaccinated                       float64\n",
            "daily_vaccinations_raw                        float64\n",
            "daily_vaccinations                            float64\n",
            "total_vaccinations_per_hundred                float64\n",
            "people_vaccinated_per_hundred                 float64\n",
            "people_fully_vaccinated_per_hundred           float64\n",
            "daily_vaccinations_per_million                float64\n",
            "vaccines                                       object\n",
            "source_name                                    object\n",
            "source_website                                 object\n",
            "dtype: object\n"
          ]
        }
      ]
    },
    {
      "cell_type": "markdown",
      "source": [
        "c. Determinar la cantidad de vacunas aplicadas de cada compañía (con base en cómo lo reporta cada país en la columna vaccines, en otras palabras, agrupe por vaccines y realice la sumatoria)."
      ],
      "metadata": {
        "id": "lp_RfgKcF5BH"
      }
    },
    {
      "cell_type": "code",
      "source": [
        "# Muchas de las filas reportan que se usaron vacunas de varias companias\n",
        "# y no se distingue cuanto del total le corresponde a cada una.\n",
        "\n",
        "# Aunque en Kaggle hay un archivo que si separa las vacunas por fabricante\n",
        "# (country_vaccinations_by_manufactures.csv), no tiene todos los datos.\n",
        "\n",
        "# Entonces aqui se **asume** que para cada registro el total de vacunas esta\n",
        "# repartido en partes iguales entre cada compania\n",
        "\n",
        "from collections import defaultdict\n",
        "\n",
        "vaccines_per_company = defaultdict(float)\n",
        "\n",
        "for index, row in df.iterrows():\n",
        "  if pd.isna(row['daily_vaccinations']):\n",
        "    continue\n",
        "\n",
        "  company_count = len(row['vaccines'].split(','))\n",
        "  for company in row['vaccines'].split(','):\n",
        "    vaccines_per_company[company.strip()] += row['daily_vaccinations'] / company_count\n",
        "\n",
        "print(\"Cantidad de vacunas aplicadas por cada compañia:\")\n",
        "for company, count in vaccines_per_company.items():\n",
        "  print(f\"{company}: {int(count)}\")\n",
        "\n",
        "print(f\"Total de vacunas: {sum(vaccines_per_company.values())}\")"
      ],
      "metadata": {
        "colab": {
          "base_uri": "https://localhost:8080/"
        },
        "id": "KS5YxMRdGhC-",
        "outputId": "10c30252-95a5-4ca6-cadc-a854deb750f4"
      },
      "execution_count": 112,
      "outputs": [
        {
          "output_type": "stream",
          "name": "stdout",
          "text": [
            "Cantidad de vacunas aplicadas por cada compañia:\n",
            "Johnson&Johnson: 798188049\n",
            "Oxford/AstraZeneca: 1788508232\n",
            "Pfizer/BioNTech: 1327063777\n",
            "Sinopharm/Beijing: 1097884739\n",
            "Sinovac: 1141941598\n",
            "Sputnik V: 953451825\n",
            "Moderna: 975696177\n",
            "CanSino: 755070862\n",
            "Novavax: 156250657\n",
            "Sputnik Light: 34938495\n",
            "Covaxin: 662061762\n",
            "Sinopharm/Wuhan: 654809418\n",
            "ZF2001: 657620058\n",
            "Abdala: 52587589\n",
            "Soberana Plus: 11267652\n",
            "Soberana02: 35213471\n",
            "COVIran Barekat: 16261890\n",
            "FAKHRAVAC: 16261890\n",
            "Razi Cov Pars: 16261890\n",
            "SpikoGen: 16261890\n",
            "QazVac: 8239296\n",
            "EpiVacCorona: 82901304\n",
            "Medigen: 12335896\n",
            "Turkovac: 49161442\n",
            "Total de vacunas: 11320239870.99997\n"
          ]
        }
      ]
    },
    {
      "cell_type": "markdown",
      "source": [
        "\n",
        "d. Obtener la cantidad de vacunas aplicadas en todo el mundo.\n"
      ],
      "metadata": {
        "id": "UGqK92i3GEae"
      }
    },
    {
      "cell_type": "code",
      "source": [
        "world_vaccinations_total = df['daily_vaccinations'].sum()\n",
        "print(f\"Cantidad de vacunas aplicadas en todo el mundo: {world_vaccinations_total}\")\n",
        "# seems legit https://www.bloomberg.com/graphics/covid-vaccine-tracker-global-distribution/"
      ],
      "metadata": {
        "colab": {
          "base_uri": "https://localhost:8080/"
        },
        "id": "9oeWsWICVwcQ",
        "outputId": "dff6c7ab-fe19-46b0-cafd-70f784d34af3"
      },
      "execution_count": 113,
      "outputs": [
        {
          "output_type": "stream",
          "name": "stdout",
          "text": [
            "Cantidad de vacunas aplicadas en todo el mundo: 11320239871.0\n"
          ]
        }
      ]
    },
    {
      "cell_type": "markdown",
      "source": [
        "e. Calcular el promedio de vacunas aplicadas por país."
      ],
      "metadata": {
        "id": "TOW1CL8YGGp2"
      }
    },
    {
      "cell_type": "code",
      "source": [
        "total_vaccinations_per_country = df.groupby('country')['daily_vaccinations'].sum()\n",
        "print(f\"Promedio de vacunas aplicadas por pais: {total_vaccinations_per_country.mean()}\")"
      ],
      "metadata": {
        "colab": {
          "base_uri": "https://localhost:8080/"
        },
        "id": "qmxnrb0DbK8H",
        "outputId": "819b15aa-df59-44f7-ba1f-5c0a4db2615d"
      },
      "execution_count": 114,
      "outputs": [
        {
          "output_type": "stream",
          "name": "stdout",
          "text": [
            "Promedio de vacunas aplicadas por pais: 50763407.49327354\n"
          ]
        }
      ]
    },
    {
      "cell_type": "markdown",
      "source": [
        "f. Determinar la cantidad de vacunas aplicadas el día 29/01/21 en todo el mundo."
      ],
      "metadata": {
        "id": "f-e-cz55GHF6"
      }
    },
    {
      "cell_type": "code",
      "source": [
        "specific_date = pd.Timestamp('2021-01-29')\n",
        "rows_in_date = df[df['date'] == specific_date]\n",
        "vaccines_applied_in_date = rows_in_date['daily_vaccinations'].sum()\n",
        "print(f\"Vacunas aplicadas el día 29/01/21 en todo el mundo: {vaccines_applied_in_date}\")"
      ],
      "metadata": {
        "colab": {
          "base_uri": "https://localhost:8080/"
        },
        "id": "HkAnnYnHdmRk",
        "outputId": "af0f5ae6-7f2c-4d29-cc67-7461c7a3b244"
      },
      "execution_count": 115,
      "outputs": [
        {
          "output_type": "stream",
          "name": "stdout",
          "text": [
            "Vacunas aplicadas el día 29/01/21 en todo el mundo: 4884052.0\n"
          ]
        }
      ]
    },
    {
      "cell_type": "markdown",
      "source": [
        "g. Crear un dataframe nuevo denominado conDiferencias que contenga los datos originales y una columna derivada (diferencias) con las diferencias de aplicación entre las columnas daily_vaccionations y daily_vaccionations_raw."
      ],
      "metadata": {
        "id": "jiJ9nX5AGLxQ"
      }
    },
    {
      "cell_type": "code",
      "source": [
        "conDiferencias = df.copy()\n",
        "conDiferencias['diferencias'] = conDiferencias['daily_vaccinations'] - conDiferencias['daily_vaccinations_raw']\n",
        "\n",
        "# Checar algunos registros sin valores NaN en las columnas usadas\n",
        "sample = conDiferencias[\n",
        "      conDiferencias['daily_vaccinations'].notna() &\n",
        "      conDiferencias['daily_vaccinations_raw'].notna()\n",
        "    ]\n",
        "sample = sample = sample[['diferencias', 'daily_vaccinations', 'daily_vaccinations_raw']]\n",
        "print(sample.head(5))\n",
        "\n",
        "# daily_vaccinations y daily_vaccinations_raw, que representan estas columnas?\n",
        "# Kaggle les da la misma descripcion"
      ],
      "metadata": {
        "colab": {
          "base_uri": "https://localhost:8080/"
        },
        "id": "3bCBetTDgXCh",
        "outputId": "364f8a4f-2537-49a3-89ae-6ae2c129a8c1"
      },
      "execution_count": 116,
      "outputs": [
        {
          "output_type": "stream",
          "name": "stdout",
          "text": [
            "     diferencias  daily_vaccinations  daily_vaccinations_raw\n",
            "94        3628.0              6487.0                  2859.0\n",
            "101       1270.0              5285.0                  4015.0\n",
            "339       2934.0              9802.0                  6868.0\n",
            "397          3.0                63.0                    60.0\n",
            "398        -12.0                66.0                    78.0\n"
          ]
        }
      ]
    },
    {
      "cell_type": "markdown",
      "source": [
        "h. Obtener el periodo de tiempo entre el registro con fecha más reciente y el registro con fecha más antigua."
      ],
      "metadata": {
        "id": "Rr5MqtjUGPqO"
      }
    },
    {
      "cell_type": "code",
      "source": [
        "earliest_vaccination_date = df['date'].min()\n",
        "latest_vaccination_date = df['date'].max()\n",
        "print(f\"Primera fecha: {earliest_vaccination_date}\")\n",
        "print(f\"Ultima fecha: {latest_vaccination_date}\")\n",
        "print(f\"Periodo de tiempo: {latest_vaccination_date - earliest_vaccination_date}\")\n"
      ],
      "metadata": {
        "colab": {
          "base_uri": "https://localhost:8080/"
        },
        "id": "c2LrVaZQh0z1",
        "outputId": "e3f88bd1-198e-4405-9fb4-e9cba98ca4eb"
      },
      "execution_count": 117,
      "outputs": [
        {
          "output_type": "stream",
          "name": "stdout",
          "text": [
            "Primera fecha: 2020-12-02 00:00:00\n",
            "Ultima fecha: 2022-03-29 00:00:00\n",
            "Periodo de tiempo: 482 days 00:00:00\n"
          ]
        }
      ]
    },
    {
      "cell_type": "markdown",
      "source": [
        "i. Crear un dataframe nuevo denominado conCantidad que contenga los datos originales y una columna derivada (canVac) con la cantidad de vacunas utilizadas cada día (usar la columna vaccines y separar por el carácter , )."
      ],
      "metadata": {
        "id": "qqPedazzGTC3"
      }
    },
    {
      "cell_type": "code",
      "source": [
        "conCantidad = df.copy()\n",
        "conCantidad['canVac'] = conCantidad['vaccines'].str.split(',').str.len()\n",
        "\n",
        "# Checar algunos registros\n",
        "sample = conCantidad[['canVac', 'vaccines']]\n",
        "print(sample.head(5))"
      ],
      "metadata": {
        "colab": {
          "base_uri": "https://localhost:8080/"
        },
        "id": "h8cU26RkjlWl",
        "outputId": "8c131708-78dd-4d25-b60f-95f716bd8cfa"
      },
      "execution_count": 118,
      "outputs": [
        {
          "output_type": "stream",
          "name": "stdout",
          "text": [
            "   canVac                                           vaccines\n",
            "0       4  Johnson&Johnson, Oxford/AstraZeneca, Pfizer/Bi...\n",
            "1       4  Johnson&Johnson, Oxford/AstraZeneca, Pfizer/Bi...\n",
            "2       4  Johnson&Johnson, Oxford/AstraZeneca, Pfizer/Bi...\n",
            "3       4  Johnson&Johnson, Oxford/AstraZeneca, Pfizer/Bi...\n",
            "4       4  Johnson&Johnson, Oxford/AstraZeneca, Pfizer/Bi...\n"
          ]
        }
      ]
    },
    {
      "cell_type": "markdown",
      "source": [
        "\n",
        "j. Generar un dataframe denominado antes20 con todos los registros que se hayan realizado antes del 20 de diciembre de 2020."
      ],
      "metadata": {
        "id": "v7HRDg3NGXPD"
      }
    },
    {
      "cell_type": "code",
      "source": [
        "specific_date = pd.Timestamp('2020-12-20')\n",
        "antes20 = df[df['date'] < specific_date]\n",
        "\n",
        "# Checar registros filtrados y la fecha mas avanzada que se incluye\n",
        "print(antes20['date'])\n",
        "print(f\"Ultima fecha en antes20: {antes20['date'].max()}\")\n"
      ],
      "metadata": {
        "colab": {
          "base_uri": "https://localhost:8080/"
        },
        "id": "mKy1fqOol0cN",
        "outputId": "59d0ae56-4fa5-45e6-ea8f-7b467d6dd50a"
      },
      "execution_count": 119,
      "outputs": [
        {
          "output_type": "stream",
          "name": "stdout",
          "text": [
            "13403   2020-12-14\n",
            "13404   2020-12-15\n",
            "13405   2020-12-16\n",
            "13406   2020-12-17\n",
            "13407   2020-12-18\n",
            "           ...    \n",
            "82362   2020-12-15\n",
            "82363   2020-12-16\n",
            "82364   2020-12-17\n",
            "82365   2020-12-18\n",
            "82366   2020-12-19\n",
            "Name: date, Length: 70, dtype: datetime64[ns]\n",
            "Ultima fecha en antes20: 2020-12-19 00:00:00\n"
          ]
        }
      ]
    },
    {
      "cell_type": "markdown",
      "source": [
        "\n",
        "k. Obtener un dataframe denominado pfizer con todos los registros donde se haya utilizado la vacuna Pfizer.\n"
      ],
      "metadata": {
        "id": "_fUF1CBGGdVe"
      }
    },
    {
      "cell_type": "code",
      "source": [
        "VACCINE_NAME = 'pfizer'\n",
        "pfizer = df[df['vaccines'].str.contains(VACCINE_NAME, case=False, na=False)]\n",
        "\n",
        "# Checar registros filtrados\n",
        "print(pfizer['vaccines'])"
      ],
      "metadata": {
        "colab": {
          "base_uri": "https://localhost:8080/"
        },
        "id": "nBLfdQthmWpG",
        "outputId": "2c563654-b11c-405e-ded9-e1c5d2fcd9e8"
      },
      "execution_count": 120,
      "outputs": [
        {
          "output_type": "stream",
          "name": "stdout",
          "text": [
            "0        Johnson&Johnson, Oxford/AstraZeneca, Pfizer/Bi...\n",
            "1        Johnson&Johnson, Oxford/AstraZeneca, Pfizer/Bi...\n",
            "2        Johnson&Johnson, Oxford/AstraZeneca, Pfizer/Bi...\n",
            "3        Johnson&Johnson, Oxford/AstraZeneca, Pfizer/Bi...\n",
            "4        Johnson&Johnson, Oxford/AstraZeneca, Pfizer/Bi...\n",
            "                               ...                        \n",
            "85069         Moderna, Oxford/AstraZeneca, Pfizer/BioNTech\n",
            "85070         Moderna, Oxford/AstraZeneca, Pfizer/BioNTech\n",
            "85071         Moderna, Oxford/AstraZeneca, Pfizer/BioNTech\n",
            "85072         Moderna, Oxford/AstraZeneca, Pfizer/BioNTech\n",
            "85073         Moderna, Oxford/AstraZeneca, Pfizer/BioNTech\n",
            "Name: vaccines, Length: 64193, dtype: object\n"
          ]
        }
      ]
    },
    {
      "cell_type": "markdown",
      "source": [
        "l. Almacenar los dataframes generados (conDiferencias, conCantidad, antes20 y pfizer) en un archivo de Excel denominado resultadosReto.xlsx, donde cada dataframe ocupe una hoja diferente. Se recomienda ver la documentación de pd.ExcelWriter."
      ],
      "metadata": {
        "id": "tugudKWYGe7T"
      }
    },
    {
      "cell_type": "code",
      "source": [
        "writer = pd.ExcelWriter('resultadosReto.xlsx', engine='openpyxl')\n",
        "\n",
        "conDiferencias.to_excel(writer, sheet_name='conDiferencias', index=False)\n",
        "conCantidad.to_excel(writer, sheet_name='conCantidad', index=False)\n",
        "antes20.to_excel(writer, sheet_name='antes20', index=False)\n",
        "pfizer.to_excel(writer, sheet_name='pfizer', index=False)\n",
        "\n",
        "writer.close()"
      ],
      "metadata": {
        "id": "r86iH0Tvnf_c"
      },
      "execution_count": 121,
      "outputs": []
    },
    {
      "cell_type": "code",
      "source": [
        "from google.colab import files\n",
        "\n",
        "# Descargar archivo excel generado\n",
        "files.download('resultadosReto.xlsx')"
      ],
      "metadata": {
        "colab": {
          "base_uri": "https://localhost:8080/",
          "height": 37
        },
        "id": "EbwDRMYhpm0q",
        "outputId": "d54ba8af-ca86-4b9f-d583-12803665045d"
      },
      "execution_count": 123,
      "outputs": [
        {
          "output_type": "display_data",
          "data": {
            "text/plain": [
              "<IPython.core.display.Javascript object>"
            ],
            "application/javascript": [
              "\n",
              "    async function download(id, filename, size) {\n",
              "      if (!google.colab.kernel.accessAllowed) {\n",
              "        return;\n",
              "      }\n",
              "      const div = document.createElement('div');\n",
              "      const label = document.createElement('label');\n",
              "      label.textContent = `Downloading \"${filename}\": `;\n",
              "      div.appendChild(label);\n",
              "      const progress = document.createElement('progress');\n",
              "      progress.max = size;\n",
              "      div.appendChild(progress);\n",
              "      document.body.appendChild(div);\n",
              "\n",
              "      const buffers = [];\n",
              "      let downloaded = 0;\n",
              "\n",
              "      const channel = await google.colab.kernel.comms.open(id);\n",
              "      // Send a message to notify the kernel that we're ready.\n",
              "      channel.send({})\n",
              "\n",
              "      for await (const message of channel.messages) {\n",
              "        // Send a message to notify the kernel that we're ready.\n",
              "        channel.send({})\n",
              "        if (message.buffers) {\n",
              "          for (const buffer of message.buffers) {\n",
              "            buffers.push(buffer);\n",
              "            downloaded += buffer.byteLength;\n",
              "            progress.value = downloaded;\n",
              "          }\n",
              "        }\n",
              "      }\n",
              "      const blob = new Blob(buffers, {type: 'application/binary'});\n",
              "      const a = document.createElement('a');\n",
              "      a.href = window.URL.createObjectURL(blob);\n",
              "      a.download = filename;\n",
              "      div.appendChild(a);\n",
              "      a.click();\n",
              "      div.remove();\n",
              "    }\n",
              "  "
            ]
          },
          "metadata": {}
        },
        {
          "output_type": "display_data",
          "data": {
            "text/plain": [
              "<IPython.core.display.Javascript object>"
            ],
            "application/javascript": [
              "download(\"download_8bf5441b-ccb0-4ee7-9172-1f0e6911ef62\", \"resultadosReto.xlsx\", 18086916)"
            ]
          },
          "metadata": {}
        }
      ]
    }
  ]
}