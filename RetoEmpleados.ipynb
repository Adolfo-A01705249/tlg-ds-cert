{
  "nbformat": 4,
  "nbformat_minor": 0,
  "metadata": {
    "colab": {
      "provenance": []
    },
    "kernelspec": {
      "name": "python3",
      "display_name": "Python 3"
    },
    "language_info": {
      "name": "python"
    }
  },
  "cells": [
    {
      "cell_type": "code",
      "execution_count": 92,
      "metadata": {
        "colab": {
          "base_uri": "https://localhost:8080/"
        },
        "id": "R_odYuM7X1sn",
        "outputId": "9c13845f-1705-41cc-c85d-62699b624f02"
      },
      "outputs": [
        {
          "output_type": "stream",
          "name": "stdout",
          "text": [
            "Drive already mounted at /content/drive; to attempt to forcibly remount, call drive.mount(\"/content/drive\", force_remount=True).\n"
          ]
        }
      ],
      "source": [
        "# Conectar con unidad de drive donde esta guardado el csv con los datos\n",
        "from google.colab import drive\n",
        "drive.mount('/content/drive')"
      ]
    },
    {
      "cell_type": "code",
      "source": [
        "import pandas as pd\n",
        "\n",
        "# Leer el archivo con pandas\n",
        "file_path = '/content/drive/MyDrive/certificado DS/empleadosRETO.csv'\n",
        "EmpleadosAttrition = pd.read_csv(file_path)"
      ],
      "metadata": {
        "id": "ktQLUND6YT5w"
      },
      "execution_count": 93,
      "outputs": []
    },
    {
      "cell_type": "code",
      "source": [
        "irrelevantColumns = [\"EmployeeCount\", \"EmployeeNumber\", \"Over18\", \"StandardHours\"]\n",
        "FactRel = EmpleadosAttrition.drop(irrelevantColumns, axis=1) #Factores Relevantes"
      ],
      "metadata": {
        "id": "hEpBis9hYelN"
      },
      "execution_count": 94,
      "outputs": []
    },
    {
      "cell_type": "code",
      "source": [
        "FactRel[\"Year\"] = FactRel[\"HiringDate\"].str.split(\"/\").str[2].astype(int)\n",
        "FactRel[\"YearsAtCompany \"] = 2018 - FactRel[\"Year\"]"
      ],
      "metadata": {
        "id": "DlV4rSqAas3O"
      },
      "execution_count": 95,
      "outputs": []
    },
    {
      "cell_type": "code",
      "source": [
        "FactRel = FactRel.rename(columns={'DistanceFromHome': 'DistanceFromHome_km'})\n",
        "FactRel[\"DistanceFromHome\"] = FactRel[\"DistanceFromHome_km\"].str[:-3].astype(int)"
      ],
      "metadata": {
        "id": "Witdo8SzdhCv"
      },
      "execution_count": 96,
      "outputs": []
    },
    {
      "cell_type": "code",
      "source": [
        "irrelevantColumns = [\"Year\", \"HiringDate\", \"DistanceFromHome_km\"]\n",
        "FactRel = FactRel.drop(irrelevantColumns, axis=1)"
      ],
      "metadata": {
        "id": "3Fo-IIeLedpR"
      },
      "execution_count": 97,
      "outputs": []
    },
    {
      "cell_type": "code",
      "source": [
        "SueldoPromedioDepto = FactRel.groupby(\"Department\")[\"MonthlyIncome\"].mean()\n",
        "SueldoPromedioDepto.name = \"SueldoPromedio\"\n",
        "SueldoPromedioDepto.reset_index()"
      ],
      "metadata": {
        "colab": {
          "base_uri": "https://localhost:8080/",
          "height": 163
        },
        "id": "KhtwEVgVfFMd",
        "outputId": "41171aad-ed7c-4c43-9bbd-6a7b131e456b"
      },
      "execution_count": 98,
      "outputs": [
        {
          "output_type": "execute_result",
          "data": {
            "text/plain": [
              "               Department  SueldoPromedio\n",
              "0         Human Resources     6239.888889\n",
              "1  Research & Development     6804.149813\n",
              "2                   Sales     7188.250000"
            ],
            "text/html": [
              "\n",
              "  <div id=\"df-09db0f84-7add-4cf5-87c2-53864003d1ec\" class=\"colab-df-container\">\n",
              "    <div>\n",
              "<style scoped>\n",
              "    .dataframe tbody tr th:only-of-type {\n",
              "        vertical-align: middle;\n",
              "    }\n",
              "\n",
              "    .dataframe tbody tr th {\n",
              "        vertical-align: top;\n",
              "    }\n",
              "\n",
              "    .dataframe thead th {\n",
              "        text-align: right;\n",
              "    }\n",
              "</style>\n",
              "<table border=\"1\" class=\"dataframe\">\n",
              "  <thead>\n",
              "    <tr style=\"text-align: right;\">\n",
              "      <th></th>\n",
              "      <th>Department</th>\n",
              "      <th>SueldoPromedio</th>\n",
              "    </tr>\n",
              "  </thead>\n",
              "  <tbody>\n",
              "    <tr>\n",
              "      <th>0</th>\n",
              "      <td>Human Resources</td>\n",
              "      <td>6239.888889</td>\n",
              "    </tr>\n",
              "    <tr>\n",
              "      <th>1</th>\n",
              "      <td>Research &amp; Development</td>\n",
              "      <td>6804.149813</td>\n",
              "    </tr>\n",
              "    <tr>\n",
              "      <th>2</th>\n",
              "      <td>Sales</td>\n",
              "      <td>7188.250000</td>\n",
              "    </tr>\n",
              "  </tbody>\n",
              "</table>\n",
              "</div>\n",
              "    <div class=\"colab-df-buttons\">\n",
              "\n",
              "  <div class=\"colab-df-container\">\n",
              "    <button class=\"colab-df-convert\" onclick=\"convertToInteractive('df-09db0f84-7add-4cf5-87c2-53864003d1ec')\"\n",
              "            title=\"Convert this dataframe to an interactive table.\"\n",
              "            style=\"display:none;\">\n",
              "\n",
              "  <svg xmlns=\"http://www.w3.org/2000/svg\" height=\"24px\" viewBox=\"0 -960 960 960\">\n",
              "    <path d=\"M120-120v-720h720v720H120Zm60-500h600v-160H180v160Zm220 220h160v-160H400v160Zm0 220h160v-160H400v160ZM180-400h160v-160H180v160Zm440 0h160v-160H620v160ZM180-180h160v-160H180v160Zm440 0h160v-160H620v160Z\"/>\n",
              "  </svg>\n",
              "    </button>\n",
              "\n",
              "  <style>\n",
              "    .colab-df-container {\n",
              "      display:flex;\n",
              "      gap: 12px;\n",
              "    }\n",
              "\n",
              "    .colab-df-convert {\n",
              "      background-color: #E8F0FE;\n",
              "      border: none;\n",
              "      border-radius: 50%;\n",
              "      cursor: pointer;\n",
              "      display: none;\n",
              "      fill: #1967D2;\n",
              "      height: 32px;\n",
              "      padding: 0 0 0 0;\n",
              "      width: 32px;\n",
              "    }\n",
              "\n",
              "    .colab-df-convert:hover {\n",
              "      background-color: #E2EBFA;\n",
              "      box-shadow: 0px 1px 2px rgba(60, 64, 67, 0.3), 0px 1px 3px 1px rgba(60, 64, 67, 0.15);\n",
              "      fill: #174EA6;\n",
              "    }\n",
              "\n",
              "    .colab-df-buttons div {\n",
              "      margin-bottom: 4px;\n",
              "    }\n",
              "\n",
              "    [theme=dark] .colab-df-convert {\n",
              "      background-color: #3B4455;\n",
              "      fill: #D2E3FC;\n",
              "    }\n",
              "\n",
              "    [theme=dark] .colab-df-convert:hover {\n",
              "      background-color: #434B5C;\n",
              "      box-shadow: 0px 1px 3px 1px rgba(0, 0, 0, 0.15);\n",
              "      filter: drop-shadow(0px 1px 2px rgba(0, 0, 0, 0.3));\n",
              "      fill: #FFFFFF;\n",
              "    }\n",
              "  </style>\n",
              "\n",
              "    <script>\n",
              "      const buttonEl =\n",
              "        document.querySelector('#df-09db0f84-7add-4cf5-87c2-53864003d1ec button.colab-df-convert');\n",
              "      buttonEl.style.display =\n",
              "        google.colab.kernel.accessAllowed ? 'block' : 'none';\n",
              "\n",
              "      async function convertToInteractive(key) {\n",
              "        const element = document.querySelector('#df-09db0f84-7add-4cf5-87c2-53864003d1ec');\n",
              "        const dataTable =\n",
              "          await google.colab.kernel.invokeFunction('convertToInteractive',\n",
              "                                                    [key], {});\n",
              "        if (!dataTable) return;\n",
              "\n",
              "        const docLinkHtml = 'Like what you see? Visit the ' +\n",
              "          '<a target=\"_blank\" href=https://colab.research.google.com/notebooks/data_table.ipynb>data table notebook</a>'\n",
              "          + ' to learn more about interactive tables.';\n",
              "        element.innerHTML = '';\n",
              "        dataTable['output_type'] = 'display_data';\n",
              "        await google.colab.output.renderOutput(dataTable, element);\n",
              "        const docLink = document.createElement('div');\n",
              "        docLink.innerHTML = docLinkHtml;\n",
              "        element.appendChild(docLink);\n",
              "      }\n",
              "    </script>\n",
              "  </div>\n",
              "\n",
              "\n",
              "<div id=\"df-a9e5e15d-c403-41aa-8e48-6cdeae94dc76\">\n",
              "  <button class=\"colab-df-quickchart\" onclick=\"quickchart('df-a9e5e15d-c403-41aa-8e48-6cdeae94dc76')\"\n",
              "            title=\"Suggest charts\"\n",
              "            style=\"display:none;\">\n",
              "\n",
              "<svg xmlns=\"http://www.w3.org/2000/svg\" height=\"24px\"viewBox=\"0 0 24 24\"\n",
              "     width=\"24px\">\n",
              "    <g>\n",
              "        <path d=\"M19 3H5c-1.1 0-2 .9-2 2v14c0 1.1.9 2 2 2h14c1.1 0 2-.9 2-2V5c0-1.1-.9-2-2-2zM9 17H7v-7h2v7zm4 0h-2V7h2v10zm4 0h-2v-4h2v4z\"/>\n",
              "    </g>\n",
              "</svg>\n",
              "  </button>\n",
              "\n",
              "<style>\n",
              "  .colab-df-quickchart {\n",
              "      --bg-color: #E8F0FE;\n",
              "      --fill-color: #1967D2;\n",
              "      --hover-bg-color: #E2EBFA;\n",
              "      --hover-fill-color: #174EA6;\n",
              "      --disabled-fill-color: #AAA;\n",
              "      --disabled-bg-color: #DDD;\n",
              "  }\n",
              "\n",
              "  [theme=dark] .colab-df-quickchart {\n",
              "      --bg-color: #3B4455;\n",
              "      --fill-color: #D2E3FC;\n",
              "      --hover-bg-color: #434B5C;\n",
              "      --hover-fill-color: #FFFFFF;\n",
              "      --disabled-bg-color: #3B4455;\n",
              "      --disabled-fill-color: #666;\n",
              "  }\n",
              "\n",
              "  .colab-df-quickchart {\n",
              "    background-color: var(--bg-color);\n",
              "    border: none;\n",
              "    border-radius: 50%;\n",
              "    cursor: pointer;\n",
              "    display: none;\n",
              "    fill: var(--fill-color);\n",
              "    height: 32px;\n",
              "    padding: 0;\n",
              "    width: 32px;\n",
              "  }\n",
              "\n",
              "  .colab-df-quickchart:hover {\n",
              "    background-color: var(--hover-bg-color);\n",
              "    box-shadow: 0 1px 2px rgba(60, 64, 67, 0.3), 0 1px 3px 1px rgba(60, 64, 67, 0.15);\n",
              "    fill: var(--button-hover-fill-color);\n",
              "  }\n",
              "\n",
              "  .colab-df-quickchart-complete:disabled,\n",
              "  .colab-df-quickchart-complete:disabled:hover {\n",
              "    background-color: var(--disabled-bg-color);\n",
              "    fill: var(--disabled-fill-color);\n",
              "    box-shadow: none;\n",
              "  }\n",
              "\n",
              "  .colab-df-spinner {\n",
              "    border: 2px solid var(--fill-color);\n",
              "    border-color: transparent;\n",
              "    border-bottom-color: var(--fill-color);\n",
              "    animation:\n",
              "      spin 1s steps(1) infinite;\n",
              "  }\n",
              "\n",
              "  @keyframes spin {\n",
              "    0% {\n",
              "      border-color: transparent;\n",
              "      border-bottom-color: var(--fill-color);\n",
              "      border-left-color: var(--fill-color);\n",
              "    }\n",
              "    20% {\n",
              "      border-color: transparent;\n",
              "      border-left-color: var(--fill-color);\n",
              "      border-top-color: var(--fill-color);\n",
              "    }\n",
              "    30% {\n",
              "      border-color: transparent;\n",
              "      border-left-color: var(--fill-color);\n",
              "      border-top-color: var(--fill-color);\n",
              "      border-right-color: var(--fill-color);\n",
              "    }\n",
              "    40% {\n",
              "      border-color: transparent;\n",
              "      border-right-color: var(--fill-color);\n",
              "      border-top-color: var(--fill-color);\n",
              "    }\n",
              "    60% {\n",
              "      border-color: transparent;\n",
              "      border-right-color: var(--fill-color);\n",
              "    }\n",
              "    80% {\n",
              "      border-color: transparent;\n",
              "      border-right-color: var(--fill-color);\n",
              "      border-bottom-color: var(--fill-color);\n",
              "    }\n",
              "    90% {\n",
              "      border-color: transparent;\n",
              "      border-bottom-color: var(--fill-color);\n",
              "    }\n",
              "  }\n",
              "</style>\n",
              "\n",
              "  <script>\n",
              "    async function quickchart(key) {\n",
              "      const quickchartButtonEl =\n",
              "        document.querySelector('#' + key + ' button');\n",
              "      quickchartButtonEl.disabled = true;  // To prevent multiple clicks.\n",
              "      quickchartButtonEl.classList.add('colab-df-spinner');\n",
              "      try {\n",
              "        const charts = await google.colab.kernel.invokeFunction(\n",
              "            'suggestCharts', [key], {});\n",
              "      } catch (error) {\n",
              "        console.error('Error during call to suggestCharts:', error);\n",
              "      }\n",
              "      quickchartButtonEl.classList.remove('colab-df-spinner');\n",
              "      quickchartButtonEl.classList.add('colab-df-quickchart-complete');\n",
              "    }\n",
              "    (() => {\n",
              "      let quickchartButtonEl =\n",
              "        document.querySelector('#df-a9e5e15d-c403-41aa-8e48-6cdeae94dc76 button');\n",
              "      quickchartButtonEl.style.display =\n",
              "        google.colab.kernel.accessAllowed ? 'block' : 'none';\n",
              "    })();\n",
              "  </script>\n",
              "</div>\n",
              "\n",
              "    </div>\n",
              "  </div>\n"
            ],
            "application/vnd.google.colaboratory.intrinsic+json": {
              "type": "dataframe",
              "summary": "{\n  \"name\": \"SueldoPromedioDepto\",\n  \"rows\": 3,\n  \"fields\": [\n    {\n      \"column\": \"Department\",\n      \"properties\": {\n        \"dtype\": \"string\",\n        \"num_unique_values\": 3,\n        \"samples\": [\n          \"Human Resources\",\n          \"Research & Development\",\n          \"Sales\"\n        ],\n        \"semantic_type\": \"\",\n        \"description\": \"\"\n      }\n    },\n    {\n      \"column\": \"SueldoPromedio\",\n      \"properties\": {\n        \"dtype\": \"number\",\n        \"std\": 477.0241330555241,\n        \"min\": 6239.888888888889,\n        \"max\": 7188.25,\n        \"num_unique_values\": 3,\n        \"samples\": [\n          6239.888888888889,\n          6804.149812734083,\n          7188.25\n        ],\n        \"semantic_type\": \"\",\n        \"description\": \"\"\n      }\n    }\n  ]\n}"
            }
          },
          "metadata": {},
          "execution_count": 98
        }
      ]
    },
    {
      "cell_type": "code",
      "source": [
        "# Este tipo de escalamiento es el mas adecuado?\n",
        "FactRel['MonthlyIncome'] = FactRel['MonthlyIncome'] / FactRel['MonthlyIncome'].max()"
      ],
      "metadata": {
        "id": "kuAMPEVak5UO"
      },
      "execution_count": 99,
      "outputs": []
    },
    {
      "cell_type": "code",
      "source": [
        "# Codificar variables categoricas\n",
        "'''\n",
        "a.\tBusinessTravel  Ordinal (since it's frequency + HAS NAN)\n",
        "b.\tDepartment      Nominal\n",
        "c.\tEducationField  Nominal (is this an error?, 'Technical Degree' appears as a field)\n",
        "d.\tGender          Nominal\n",
        "e.\tJobRole         Nominal (there are hierarchies, but it ain't trivial ordering roles)\n",
        "f.\tMaritalStatus   Nominal (no clear order either + HAS NAN)\n",
        "g.\tAttrition       Yes-T, No-F\n",
        "'''\n",
        "\n",
        "businessTravelOrder = ['Non-Travel', 'Travel_Rarely', 'Travel_Frequently']\n",
        "FactRel['BusinessTravel'] = pd.Categorical(FactRel['BusinessTravel'], categories=businessTravelOrder, ordered=True)\n",
        "FactRel['BusinessTravelEncoded'] = FactRel['BusinessTravel'].cat.codes\n",
        "\n",
        "print(FactRel[['BusinessTravelEncoded', 'BusinessTravel']].head(10))\n",
        "FactRel.drop('BusinessTravel', axis=1, inplace=True)"
      ],
      "metadata": {
        "colab": {
          "base_uri": "https://localhost:8080/"
        },
        "id": "zCfys4bonOWx",
        "outputId": "58c3ce6b-e3b9-4d2c-8cad-e1559110d3ac"
      },
      "execution_count": 100,
      "outputs": [
        {
          "output_type": "stream",
          "name": "stdout",
          "text": [
            "   BusinessTravelEncoded     BusinessTravel\n",
            "0                      1      Travel_Rarely\n",
            "1                      1      Travel_Rarely\n",
            "2                      1      Travel_Rarely\n",
            "3                      1      Travel_Rarely\n",
            "4                      1      Travel_Rarely\n",
            "5                      1      Travel_Rarely\n",
            "6                      1      Travel_Rarely\n",
            "7                      0         Non-Travel\n",
            "8                      1      Travel_Rarely\n",
            "9                      2  Travel_Frequently\n"
          ]
        }
      ]
    },
    {
      "cell_type": "code",
      "source": [
        "# One-hot encoding con pandas para las nominales\n",
        "nominalColumns = ['Department', 'EducationField', 'Gender', 'JobRole', 'MaritalStatus']\n",
        "FactRel = pd.get_dummies(FactRel, columns=nominalColumns)"
      ],
      "metadata": {
        "id": "v9HZW0QdqXoM"
      },
      "execution_count": 101,
      "outputs": []
    },
    {
      "cell_type": "code",
      "source": [
        "FactRel['OverTimeEncoded'] = FactRel['OverTime'].replace({'Yes': True, 'No': False})\n",
        "print(FactRel[['OverTime', 'OverTimeEncoded']])\n",
        "FactRel.drop('OverTime', axis=1, inplace=True)\n",
        "\n",
        "FactRel['AttritionEncoded'] = FactRel['Attrition'].replace({'Yes': True, 'No': False})\n",
        "print(FactRel[['Attrition', 'AttritionEncoded']])\n",
        "FactRel.drop('Attrition', axis=1, inplace=True)"
      ],
      "metadata": {
        "colab": {
          "base_uri": "https://localhost:8080/"
        },
        "id": "picpBWBg6P9z",
        "outputId": "eb447c1f-f350-46e8-d3ce-9a850f169312"
      },
      "execution_count": 102,
      "outputs": [
        {
          "output_type": "stream",
          "name": "stdout",
          "text": [
            "    OverTime  OverTimeEncoded\n",
            "0         No            False\n",
            "1         No            False\n",
            "2         No            False\n",
            "3         No            False\n",
            "4        Yes             True\n",
            "..       ...              ...\n",
            "395      Yes             True\n",
            "396      Yes             True\n",
            "397      Yes             True\n",
            "398       No            False\n",
            "399       No            False\n",
            "\n",
            "[400 rows x 2 columns]\n",
            "    Attrition  AttritionEncoded\n",
            "0          No             False\n",
            "1          No             False\n",
            "2         Yes              True\n",
            "3          No             False\n",
            "4         Yes              True\n",
            "..        ...               ...\n",
            "395       Yes              True\n",
            "396       Yes              True\n",
            "397        No             False\n",
            "398        No             False\n",
            "399        No             False\n",
            "\n",
            "[400 rows x 2 columns]\n"
          ]
        },
        {
          "output_type": "stream",
          "name": "stderr",
          "text": [
            "<ipython-input-102-777d60554080>:1: FutureWarning: Downcasting behavior in `replace` is deprecated and will be removed in a future version. To retain the old behavior, explicitly call `result.infer_objects(copy=False)`. To opt-in to the future behavior, set `pd.set_option('future.no_silent_downcasting', True)`\n",
            "  FactRel['OverTimeEncoded'] = FactRel['OverTime'].replace({'Yes': True, 'No': False})\n",
            "<ipython-input-102-777d60554080>:5: FutureWarning: Downcasting behavior in `replace` is deprecated and will be removed in a future version. To retain the old behavior, explicitly call `result.infer_objects(copy=False)`. To opt-in to the future behavior, set `pd.set_option('future.no_silent_downcasting', True)`\n",
            "  FactRel['AttritionEncoded'] = FactRel['Attrition'].replace({'Yes': True, 'No': False})\n"
          ]
        }
      ]
    },
    {
      "cell_type": "code",
      "source": [
        "correlations = FactRel.corr()\n",
        "attritionCorrelations = correlations['AttritionEncoded'].drop('AttritionEncoded')\n",
        "print(attritionCorrelations)"
      ],
      "metadata": {
        "colab": {
          "base_uri": "https://localhost:8080/"
        },
        "id": "HcjHA2Eb40Pz",
        "outputId": "a9405383-7eef-435b-d698-7d92ae66ea49"
      },
      "execution_count": 103,
      "outputs": [
        {
          "output_type": "stream",
          "name": "stdout",
          "text": [
            "Age                                 -0.212121\n",
            "Education                           -0.055531\n",
            "EnvironmentSatisfaction             -0.124327\n",
            "JobInvolvement                      -0.166785\n",
            "JobLevel                            -0.214266\n",
            "JobSatisfaction                     -0.164957\n",
            "MonthlyIncome                       -0.194936\n",
            "NumCompaniesWorked                  -0.009082\n",
            "PercentSalaryHike                   -0.060880\n",
            "PerformanceRating                   -0.006471\n",
            "RelationshipSatisfaction            -0.030945\n",
            "TotalWorkingYears                   -0.213329\n",
            "TrainingTimesLastYear               -0.070884\n",
            "WorkLifeBalance                     -0.021723\n",
            "YearsInCurrentRole                  -0.203918\n",
            "YearsSinceLastPromotion             -0.069000\n",
            "YearsAtCompany                      -0.176001\n",
            "DistanceFromHome                     0.052732\n",
            "BusinessTravelEncoded                0.091336\n",
            "Department_Human Resources           0.023389\n",
            "Department_Research & Development   -0.072269\n",
            "Department_Sales                     0.066116\n",
            "EducationField_Human Resources       0.043404\n",
            "EducationField_Life Sciences        -0.027457\n",
            "EducationField_Marketing             0.016768\n",
            "EducationField_Medical              -0.054144\n",
            "EducationField_Other                -0.004275\n",
            "EducationField_Technical Degree      0.129104\n",
            "Gender_Female                        0.028839\n",
            "Gender_Male                         -0.028839\n",
            "JobRole_Healthcare Representative   -0.103274\n",
            "JobRole_Human Resources              0.032714\n",
            "JobRole_Laboratory Technician        0.125264\n",
            "JobRole_Manager                     -0.089885\n",
            "JobRole_Manufacturing Director      -0.042404\n",
            "JobRole_Research Director           -0.116263\n",
            "JobRole_Research Scientist           0.007977\n",
            "JobRole_Sales Executive             -0.003115\n",
            "JobRole_Sales Representative         0.191294\n",
            "MaritalStatus_Divorced              -0.107869\n",
            "MaritalStatus_Married               -0.094734\n",
            "MaritalStatus_Single                 0.205849\n",
            "OverTimeEncoded                      0.324777\n",
            "Name: AttritionEncoded, dtype: float64\n"
          ]
        }
      ]
    },
    {
      "cell_type": "code",
      "source": [
        "correlation = FactRel.corr()[\"AttritionEncoded\"]\n",
        "correlationFiltered = correlation[correlation > 0.1]\n",
        "print(correlationFiltered)\n",
        "\n",
        "EmpleadosAttritionFinal = FactRel[correlationFiltered.index]"
      ],
      "metadata": {
        "id": "Ff-Ky12I67xo",
        "colab": {
          "base_uri": "https://localhost:8080/"
        },
        "outputId": "8e640a94-08d5-42cc-d7f4-509070a90a57"
      },
      "execution_count": 104,
      "outputs": [
        {
          "output_type": "stream",
          "name": "stdout",
          "text": [
            "EducationField_Technical Degree    0.129104\n",
            "JobRole_Laboratory Technician      0.125264\n",
            "JobRole_Sales Representative       0.191294\n",
            "MaritalStatus_Single               0.205849\n",
            "OverTimeEncoded                    0.324777\n",
            "AttritionEncoded                   1.000000\n",
            "Name: AttritionEncoded, dtype: float64\n"
          ]
        }
      ]
    },
    {
      "cell_type": "code",
      "source": [
        "from sklearn.decomposition import PCA\n",
        "\n",
        "pca = PCA()\n",
        "EmpleadosAttritionPCA = pca.fit_transform(EmpleadosAttritionFinal)\n",
        "print(pca.explained_variance_ratio_)"
      ],
      "metadata": {
        "colab": {
          "base_uri": "https://localhost:8080/"
        },
        "id": "x-Cv7YGJ3J5a",
        "outputId": "d7827931-3b0d-4160-dfa3-9a06fbe6c78f"
      },
      "execution_count": 105,
      "outputs": [
        {
          "output_type": "stream",
          "name": "stdout",
          "text": [
            "[0.3123714  0.24768714 0.18718102 0.12680686 0.06711966 0.05883393]\n"
          ]
        }
      ]
    },
    {
      "cell_type": "code",
      "source": [
        "readableNumberOfRows = 5\n",
        "print(\"PCs as numpy array\")\n",
        "print(EmpleadosAttritionPCA[0:readableNumberOfRows])\n",
        "pcaDf = pd.DataFrame(data=EmpleadosAttritionPCA, columns=[f'PC{i+1}' for i in range(EmpleadosAttritionPCA.shape[1])])\n",
        "print(\"\\nPCs as dataframe\")\n",
        "print(pcaDf.head(readableNumberOfRows))"
      ],
      "metadata": {
        "colab": {
          "base_uri": "https://localhost:8080/"
        },
        "id": "X2kkzXGT2U3z",
        "outputId": "8ad2deee-05ef-46bd-e797-3415b4f3eb1b"
      },
      "execution_count": 106,
      "outputs": [
        {
          "output_type": "stream",
          "name": "stdout",
          "text": [
            "PCs as numpy array\n",
            "[[-0.41865799 -0.02533991 -0.13936604  0.08236991 -0.09256093 -0.00911893]\n",
            " [-0.41865799 -0.02533991 -0.13936604  0.08236991 -0.09256093 -0.00911893]\n",
            " [ 0.73238095  0.77027152  0.13209651  0.84681449  0.26097396 -0.51809579]\n",
            " [ 0.12988815  0.75500952 -0.12913339 -0.20245454 -0.0671046   0.0818437 ]\n",
            " [ 0.74870823 -0.71618348 -0.0775299   0.41342723 -0.30708013 -0.03257364]]\n",
            "\n",
            "PCs as dataframe\n",
            "        PC1       PC2       PC3       PC4       PC5       PC6\n",
            "0 -0.418658 -0.025340 -0.139366  0.082370 -0.092561 -0.009119\n",
            "1 -0.418658 -0.025340 -0.139366  0.082370 -0.092561 -0.009119\n",
            "2  0.732381  0.770272  0.132097  0.846814  0.260974 -0.518096\n",
            "3  0.129888  0.755010 -0.129133 -0.202455 -0.067105  0.081844\n",
            "4  0.748708 -0.716183 -0.077530  0.413427 -0.307080 -0.032574\n"
          ]
        }
      ]
    },
    {
      "cell_type": "code",
      "source": [
        "acum = 0\n",
        "for i in range(len(pca.explained_variance_ratio_)):\n",
        "  acum += pca.explained_variance_ratio_[i]\n",
        "  print(f\"Variance acummulated until PC{i+1}: {acum}\")\n",
        "  if acum > 0.8:\n",
        "    break"
      ],
      "metadata": {
        "colab": {
          "base_uri": "https://localhost:8080/"
        },
        "id": "K95CZcOH3Pjl",
        "outputId": "c7727f8d-c9c6-4787-bd3e-bd1f32171ab9"
      },
      "execution_count": 107,
      "outputs": [
        {
          "output_type": "stream",
          "name": "stdout",
          "text": [
            "Variance acummulated until PC1: 0.3123714003297026\n",
            "Variance acummulated until PC2: 0.5600585379215175\n",
            "Variance acummulated until PC3: 0.7472395535216889\n",
            "Variance acummulated until PC4: 0.8740464130115218\n"
          ]
        }
      ]
    },
    {
      "cell_type": "code",
      "source": [
        "enoughVariancePCs = pcaDf.iloc[:, :4]\n",
        "EmpleadosAttritionFinal = pd.concat([EmpleadosAttritionFinal, enoughVariancePCs], axis=1)\n",
        "print(EmpleadosAttritionFinal.columns)"
      ],
      "metadata": {
        "colab": {
          "base_uri": "https://localhost:8080/"
        },
        "id": "acY3-4iS3ktF",
        "outputId": "cbc2c383-b049-47ea-acd6-85f8e51e02e9"
      },
      "execution_count": 108,
      "outputs": [
        {
          "output_type": "stream",
          "name": "stdout",
          "text": [
            "Index(['EducationField_Technical Degree', 'JobRole_Laboratory Technician',\n",
            "       'JobRole_Sales Representative', 'MaritalStatus_Single',\n",
            "       'OverTimeEncoded', 'AttritionEncoded', 'PC1', 'PC2', 'PC3', 'PC4'],\n",
            "      dtype='object')\n"
          ]
        }
      ]
    },
    {
      "cell_type": "code",
      "source": [
        "EmpleadosAttritionFinal.to_csv('EmpleadosAttritionFinal.csv', index=False)"
      ],
      "metadata": {
        "id": "SMusfHU_4FMG"
      },
      "execution_count": 112,
      "outputs": []
    },
    {
      "cell_type": "code",
      "source": [
        "from google.colab import files\n",
        "files.download('EmpleadosAttritionFinal.csv')"
      ],
      "metadata": {
        "colab": {
          "base_uri": "https://localhost:8080/",
          "height": 37
        },
        "id": "8I8c41Tk5cMl",
        "outputId": "6f1f396f-db1d-4717-c771-a846515d24d4"
      },
      "execution_count": 113,
      "outputs": [
        {
          "output_type": "display_data",
          "data": {
            "text/plain": [
              "<IPython.core.display.Javascript object>"
            ],
            "application/javascript": [
              "\n",
              "    async function download(id, filename, size) {\n",
              "      if (!google.colab.kernel.accessAllowed) {\n",
              "        return;\n",
              "      }\n",
              "      const div = document.createElement('div');\n",
              "      const label = document.createElement('label');\n",
              "      label.textContent = `Downloading \"${filename}\": `;\n",
              "      div.appendChild(label);\n",
              "      const progress = document.createElement('progress');\n",
              "      progress.max = size;\n",
              "      div.appendChild(progress);\n",
              "      document.body.appendChild(div);\n",
              "\n",
              "      const buffers = [];\n",
              "      let downloaded = 0;\n",
              "\n",
              "      const channel = await google.colab.kernel.comms.open(id);\n",
              "      // Send a message to notify the kernel that we're ready.\n",
              "      channel.send({})\n",
              "\n",
              "      for await (const message of channel.messages) {\n",
              "        // Send a message to notify the kernel that we're ready.\n",
              "        channel.send({})\n",
              "        if (message.buffers) {\n",
              "          for (const buffer of message.buffers) {\n",
              "            buffers.push(buffer);\n",
              "            downloaded += buffer.byteLength;\n",
              "            progress.value = downloaded;\n",
              "          }\n",
              "        }\n",
              "      }\n",
              "      const blob = new Blob(buffers, {type: 'application/binary'});\n",
              "      const a = document.createElement('a');\n",
              "      a.href = window.URL.createObjectURL(blob);\n",
              "      a.download = filename;\n",
              "      div.appendChild(a);\n",
              "      a.click();\n",
              "      div.remove();\n",
              "    }\n",
              "  "
            ]
          },
          "metadata": {}
        },
        {
          "output_type": "display_data",
          "data": {
            "text/plain": [
              "<IPython.core.display.Javascript object>"
            ],
            "application/javascript": [
              "download(\"download_2186ca98-a084-4c25-9cec-2315f2ba8dfe\", \"EmpleadosAttritionFinal.csv\", 46392)"
            ]
          },
          "metadata": {}
        }
      ]
    }
  ]
}